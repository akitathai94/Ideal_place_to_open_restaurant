{
 "cells": [
  {
   "cell_type": "markdown",
   "metadata": {},
   "source": [
    "## Final Report | Capstone Project – The Battle of Neighborhoods Finding a Better Place To Start a Vietnamese Restaurant Business in Calgary, Alberta, Canada\n"
   ]
  },
  {
   "cell_type": "markdown",
   "metadata": {},
   "source": [
    "### 1. Introduction"
   ]
  },
  {
   "cell_type": "markdown",
   "metadata": {},
   "source": [
    "The purpose of this Project is to help people in exploring better places to start a Vietnamese Restaurant Business around their neighborhood. It will help people making smart and efficient decision on selecting great neighborhood out of numbers of other neighborhoods in Calgary City, Alberta, Canada.\n",
    "\n",
    "Lots of people are migrating to various states of Canada and needed lots of research for good location and surrounding by their community for a better customer flow. This project is for those people who are looking for better start by doing research on the city of Calgary. \n",
    "\n",
    "This Project aim to create an analysis of features for people migrating to Calgary City to search a best neighborhood as a comparative analysis between neighborhoods. The features include the most common venues ratings, asian restaurants rates of that particular area, road connectivity, weather conditions, good management for emergency, water resources both freash and waste water and excrement conveyed in sewers and recreational facilities."
   ]
  },
  {
   "cell_type": "markdown",
   "metadata": {},
   "source": [
    "### 2. Data Section"
   ]
  },
  {
   "cell_type": "markdown",
   "metadata": {},
   "source": [
    "Data Link: https://en.wikipedia.org/wiki/List_of_postal_codes_of_Canada:_T\n",
    "\n",
    "Initialzing data by scaping the table on the wikipedia page. Dataset consisting of Postal, Code, Borough, Neighborhood, Latitude, and Longitude. "
   ]
  },
  {
   "cell_type": "markdown",
   "metadata": {},
   "source": [
    "#### Foursquare API "
   ]
  },
  {
   "cell_type": "markdown",
   "metadata": {},
   "source": [
    "We will need data about different venues in different neighborhoods of that specific borough. In order to gain that information we will use \"Foursquare\" locational information. Foursquare is a location data provider with information about all manner of venues and events within an area of interest. Such information includes venue names, locations, menus and even photos. As such, the foursquare location platform will be used as the sole data source since all the stated required information can be obtained through the API.\n",
    "\n",
    "After finding the list of neighborhoods, we then connect to the Foursquare API to gather information about venues inside each and every neighborhood. For each neighborhood, we have chosen the radius to be 500 meter and limited to 100 venues\n",
    "\n",
    "The data retrieved from Foursquare contained information of venues within a specified distance of the longitude and latitude of the postcodes. The information obtained per venue as follows:\n",
    "\n",
    "`1. Neighborhood`\n",
    "\n",
    "`2. Neighborhood Latitude`\n",
    "\n",
    "`3. Neighborhood Longitude`\n",
    "\n",
    "`4. Venue`\n",
    "\n",
    "`5. Name of the venue e.g. the name of a store or restaurant`\n",
    "\n",
    "`6. Venue Latitude`\n",
    "\n",
    "`7. Venue Longitude`\n",
    "\n",
    "`8. Venue Category`\n",
    "#### Map of Calgary"
   ]
  },
  {
   "cell_type": "markdown",
   "metadata": {},
   "source": [
    "### 3. Methedology Section\n",
    "#### Clustering Approach:\n",
    "To compare the similarities of two cities, we decided to explore neighborhoods, segment them, and group them into clusters to find similar neighborhoods in a big city like New York and Toronto. To be able to do that, we need to cluster data which is a form of unsupervised machine learning: k-means clustering algorithm."
   ]
  },
  {
   "cell_type": "markdown",
   "metadata": {},
   "source": [
    "#### Using K-Means Clustering Approach\n",
    "\n",
    "#### Most Common venues near Neighborhood\n",
    "\n",
    "#### Work Flow:\n",
    "Using credentials of Foursquare API features of near-by places of the neighborhoods would be mined. Due to http request limitations the number of places per neighborhood parameter would reasonably be set to 100 and the radius parameter would be set to 500.\n"
   ]
  },
  {
   "cell_type": "markdown",
   "metadata": {},
   "source": [
    "### 4. Result Section"
   ]
  },
  {
   "cell_type": "markdown",
   "metadata": {},
   "source": [
    "#### Map of Clusters in Calgary\n",
    "#### Vietnamese Restaurant Venues"
   ]
  },
  {
   "cell_type": "markdown",
   "metadata": {},
   "source": [
    "#### The location\n",
    "Calgary is a popular destination for new immigrants in Canada to reside. As a result, it is one of the most diverse and multicultural areas in the Alberta Province Area, being home to various religious groups and places of worship. Although immigration has become a hot topic over the past few years with more governments seeking more restrictions on immigrants and refugees, the general trend of immigration into Canada has been one of on the rise."
   ]
  },
  {
   "cell_type": "markdown",
   "metadata": {},
   "source": [
    "### 5. Discussion Section\n",
    "\n",
    "#### Problem Which Tried to Solve:\n",
    "The major purpose of this project, is to suggest a better neighborhood in Calgary city for the Vietnamese people that plan to open a Vietnamese Restaurant there. After clustering section, we will look for the `1st Most Common Venue` going down to `10th Most Common Venue` for each cluster and try to find the Neighborhood has the highest rank for Vietnamese Restaurant.\n",
    "\n",
    "After all the work, we will obtain those Neighborhood that has Vietnamese Restaurant as the highest rank in Common Venues."
   ]
  },
  {
   "cell_type": "markdown",
   "metadata": {},
   "source": [
    "### 6. Conclusion Section"
   ]
  },
  {
   "cell_type": "markdown",
   "metadata": {},
   "source": [
    "In this project, using k-means cluster algorithm I separated the neighborhood into 5(five) different clusters and for 33 different lattitude and logitude from dataset, which have very-similar neighborhoods around them. After that we then look for the Neighborhood with the Highest Rank in Common Venues in `Vietnamese Restaurant`\n",
    "\n"
   ]
  },
  {
   "cell_type": "code",
   "execution_count": null,
   "metadata": {},
   "outputs": [],
   "source": []
  }
 ],
 "metadata": {
  "kernelspec": {
   "display_name": "Python 3",
   "language": "python",
   "name": "python3"
  },
  "language_info": {
   "codemirror_mode": {
    "name": "ipython",
    "version": 3
   },
   "file_extension": ".py",
   "mimetype": "text/x-python",
   "name": "python",
   "nbconvert_exporter": "python",
   "pygments_lexer": "ipython3",
   "version": "3.8.2"
  }
 },
 "nbformat": 4,
 "nbformat_minor": 4
}
